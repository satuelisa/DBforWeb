{
  "nbformat": 4,
  "nbformat_minor": 0,
  "metadata": {
    "colab": {
      "name": "DBW_03.ipynb",
      "provenance": [],
      "authorship_tag": "ABX9TyOIEdzB/bVLqepsbmwA30YK",
      "include_colab_link": true
    },
    "kernelspec": {
      "name": "python3",
      "display_name": "Python 3"
    },
    "language_info": {
      "name": "python"
    }
  },
  "cells": [
    {
      "cell_type": "markdown",
      "metadata": {
        "id": "view-in-github",
        "colab_type": "text"
      },
      "source": [
        "<a href=\"https://colab.research.google.com/github/satuelisa/DBforWeb/blob/main/DBW_03.ipynb\" target=\"_parent\"><img src=\"https://colab.research.google.com/assets/colab-badge.svg\" alt=\"Open In Colab\"/></a>"
      ]
    },
    {
      "cell_type": "code",
      "execution_count": 1,
      "metadata": {
        "id": "YzKpvlvmPxoI"
      },
      "outputs": [],
      "source": [
        "import pandas as pd\n",
        "url = 'https://raw.githubusercontent.com/satuelisa/DBforWeb/main/joins/students.csv' # new example data\n",
        "students = pd.read_csv(url)\n",
        "url = 'https://raw.githubusercontent.com/satuelisa/DBforWeb/main/joins/grades.csv' # today we need more than one table\n",
        "grades = pd.read_csv(url)"
      ]
    },
    {
      "cell_type": "markdown",
      "source": [
        "First and foremost, it is best go take a look at the two tables: we have info on [students](https://github.com/satuelisa/DBforWeb/blob/main/joins/students.csv) (including the program they are enrolled in, assuming a single program per student) and, on the other hand, on [grades](https://github.com/satuelisa/DBforWeb/blob/main/joins/grades.csv)."
      ],
      "metadata": {
        "id": "a8LVxEFAQENU"
      }
    },
    {
      "cell_type": "code",
      "source": [
        "import sqlite3\n",
        "connector = sqlite3.connect('example.db')\n",
        "cursor = connector.cursor()"
      ],
      "metadata": {
        "id": "e5MPq3NASc3I"
      },
      "execution_count": 2,
      "outputs": []
    },
    {
      "cell_type": "code",
      "source": [
        "# first table\n",
        "fields = ','.join(students.columns)\n",
        "cursor.execute(f'CREATE TABLE students ({fields});') \n",
        "rows = students.to_dict(orient = 'split')['data']\n",
        "wildcard = ('?,' * len(students.columns))[:-1]\n",
        "cursor.executemany(f'INSERT INTO students ({fields}) VALUES ({wildcard});', rows) "
      ],
      "metadata": {
        "colab": {
          "base_uri": "https://localhost:8080/"
        },
        "id": "tvFLtSl4TBHM",
        "outputId": "86fa7d97-c495-4fef-c108-7d09e7de95ca"
      },
      "execution_count": 3,
      "outputs": [
        {
          "output_type": "execute_result",
          "data": {
            "text/plain": [
              "<sqlite3.Cursor at 0x7f23c2563650>"
            ]
          },
          "metadata": {},
          "execution_count": 3
        }
      ]
    },
    {
      "cell_type": "code",
      "source": [
        "# second table\n",
        "fields = ','.join(grades.columns)\n",
        "cursor.execute(f'CREATE TABLE grades ({fields});') \n",
        "rows = grades.to_dict(orient = 'split')['data']\n",
        "wildcard = ('?,' * len(grades.columns))[:-1]\n",
        "cursor.executemany(f'INSERT INTO grades ({fields}) VALUES ({wildcard});', rows) "
      ],
      "metadata": {
        "colab": {
          "base_uri": "https://localhost:8080/"
        },
        "id": "SQu6QI5XTCOm",
        "outputId": "0412dfa2-4fc0-448d-e0b1-c26886859b25"
      },
      "execution_count": 4,
      "outputs": [
        {
          "output_type": "execute_result",
          "data": {
            "text/plain": [
              "<sqlite3.Cursor at 0x7f23c2563650>"
            ]
          },
          "metadata": {},
          "execution_count": 4
        }
      ]
    },
    {
      "cell_type": "code",
      "source": [
        "connector.commit() # send it in\n",
        "connector.close() # close the connection"
      ],
      "metadata": {
        "id": "wTbMpuJ3TFkH"
      },
      "execution_count": 5,
      "outputs": []
    },
    {
      "cell_type": "markdown",
      "source": [
        "Now, if we want to see how a specific program is doing, gradewise, we would need to combine information from the two tables to get the students of that program and then the grades of those students."
      ],
      "metadata": {
        "id": "8fBOrjDTTMlW"
      }
    },
    {
      "cell_type": "code",
      "source": [
        "connector = sqlite3.connect('example.db')\n",
        "cursor = connector.cursor()\n",
        "cursor = connector.execute('SELECT * FROM students JOIN grades ON students.StudentID == grades.StudentID;')\n",
        "for row in cursor.fetchall():\n",
        "  print(row)\n",
        "connector.close()"
      ],
      "metadata": {
        "colab": {
          "base_uri": "https://localhost:8080/"
        },
        "id": "DqI6MJqITdBS",
        "outputId": "b3dcd6d6-2c2c-4b0b-d72f-f0d4b22d4d23"
      },
      "execution_count": 6,
      "outputs": [
        {
          "output_type": "stream",
          "name": "stdout",
          "text": [
            "(123, 'Carmen', 'HR', 123, 'Programming', 82)\n",
            "(123, 'Carmen', 'HR', 123, 'Stats', 87)\n",
            "(123, 'Carmen', 'HR', 123, 'Writing', 78)\n",
            "(125, 'Emilia', 'Finance', 125, 'Writing', 93)\n",
            "(132, 'Sami', 'IT', 132, 'Programming', 79)\n",
            "(139, 'Carlo', 'HR', 139, 'Stats', 93)\n",
            "(141, 'Jules', 'Finance', 141, 'Stats', 78)\n",
            "(141, 'Jules', 'Finance', 141, 'Writing', 84)\n",
            "(147, 'James', 'IT', 147, 'Programming', 96)\n",
            "(151, 'Carmen', 'Finance', 151, 'Programming', 67)\n",
            "(152, 'Guadalupe', 'IT', 152, 'Writing', 64)\n",
            "(156, 'Ivan', 'HR', 156, 'Writing', 89)\n",
            "(163, 'Cecilia', 'IT', 163, 'Programming', 85)\n",
            "(163, 'Cecilia', 'IT', 163, 'Stats', 73)\n",
            "(163, 'Cecilia', 'IT', 163, 'Writing', 92)\n"
          ]
        }
      ]
    },
    {
      "cell_type": "markdown",
      "source": [
        "We could also shove the result into a `pandas` *dataframe* so it looks prettier."
      ],
      "metadata": {
        "id": "fR7Aew4yT7bB"
      }
    },
    {
      "cell_type": "code",
      "source": [
        "connector = sqlite3.connect('example.db')\n",
        "result = pd.read_sql_query('SELECT * FROM students JOIN grades ON students.StudentID == grades.StudentID;', connector)\n",
        "connector.close()\n",
        "result"
      ],
      "metadata": {
        "colab": {
          "base_uri": "https://localhost:8080/",
          "height": 520
        },
        "id": "OWCxJ3LuUQ3z",
        "outputId": "2c251271-f60e-4eb1-ecca-337b23a03b12"
      },
      "execution_count": 7,
      "outputs": [
        {
          "output_type": "execute_result",
          "data": {
            "text/plain": [
              "    StudentID       Name  Program  StudentID     CourseID  Grade\n",
              "0         123     Carmen       HR        123  Programming     82\n",
              "1         123     Carmen       HR        123        Stats     87\n",
              "2         123     Carmen       HR        123      Writing     78\n",
              "3         125     Emilia  Finance        125      Writing     93\n",
              "4         132       Sami       IT        132  Programming     79\n",
              "5         139      Carlo       HR        139        Stats     93\n",
              "6         141      Jules  Finance        141        Stats     78\n",
              "7         141      Jules  Finance        141      Writing     84\n",
              "8         147      James       IT        147  Programming     96\n",
              "9         151     Carmen  Finance        151  Programming     67\n",
              "10        152  Guadalupe       IT        152      Writing     64\n",
              "11        156       Ivan       HR        156      Writing     89\n",
              "12        163    Cecilia       IT        163  Programming     85\n",
              "13        163    Cecilia       IT        163        Stats     73\n",
              "14        163    Cecilia       IT        163      Writing     92"
            ],
            "text/html": [
              "\n",
              "  <div id=\"df-028a34f6-a9ac-4cfb-b6fd-1b725e1f609e\">\n",
              "    <div class=\"colab-df-container\">\n",
              "      <div>\n",
              "<style scoped>\n",
              "    .dataframe tbody tr th:only-of-type {\n",
              "        vertical-align: middle;\n",
              "    }\n",
              "\n",
              "    .dataframe tbody tr th {\n",
              "        vertical-align: top;\n",
              "    }\n",
              "\n",
              "    .dataframe thead th {\n",
              "        text-align: right;\n",
              "    }\n",
              "</style>\n",
              "<table border=\"1\" class=\"dataframe\">\n",
              "  <thead>\n",
              "    <tr style=\"text-align: right;\">\n",
              "      <th></th>\n",
              "      <th>StudentID</th>\n",
              "      <th>Name</th>\n",
              "      <th>Program</th>\n",
              "      <th>StudentID</th>\n",
              "      <th>CourseID</th>\n",
              "      <th>Grade</th>\n",
              "    </tr>\n",
              "  </thead>\n",
              "  <tbody>\n",
              "    <tr>\n",
              "      <th>0</th>\n",
              "      <td>123</td>\n",
              "      <td>Carmen</td>\n",
              "      <td>HR</td>\n",
              "      <td>123</td>\n",
              "      <td>Programming</td>\n",
              "      <td>82</td>\n",
              "    </tr>\n",
              "    <tr>\n",
              "      <th>1</th>\n",
              "      <td>123</td>\n",
              "      <td>Carmen</td>\n",
              "      <td>HR</td>\n",
              "      <td>123</td>\n",
              "      <td>Stats</td>\n",
              "      <td>87</td>\n",
              "    </tr>\n",
              "    <tr>\n",
              "      <th>2</th>\n",
              "      <td>123</td>\n",
              "      <td>Carmen</td>\n",
              "      <td>HR</td>\n",
              "      <td>123</td>\n",
              "      <td>Writing</td>\n",
              "      <td>78</td>\n",
              "    </tr>\n",
              "    <tr>\n",
              "      <th>3</th>\n",
              "      <td>125</td>\n",
              "      <td>Emilia</td>\n",
              "      <td>Finance</td>\n",
              "      <td>125</td>\n",
              "      <td>Writing</td>\n",
              "      <td>93</td>\n",
              "    </tr>\n",
              "    <tr>\n",
              "      <th>4</th>\n",
              "      <td>132</td>\n",
              "      <td>Sami</td>\n",
              "      <td>IT</td>\n",
              "      <td>132</td>\n",
              "      <td>Programming</td>\n",
              "      <td>79</td>\n",
              "    </tr>\n",
              "    <tr>\n",
              "      <th>5</th>\n",
              "      <td>139</td>\n",
              "      <td>Carlo</td>\n",
              "      <td>HR</td>\n",
              "      <td>139</td>\n",
              "      <td>Stats</td>\n",
              "      <td>93</td>\n",
              "    </tr>\n",
              "    <tr>\n",
              "      <th>6</th>\n",
              "      <td>141</td>\n",
              "      <td>Jules</td>\n",
              "      <td>Finance</td>\n",
              "      <td>141</td>\n",
              "      <td>Stats</td>\n",
              "      <td>78</td>\n",
              "    </tr>\n",
              "    <tr>\n",
              "      <th>7</th>\n",
              "      <td>141</td>\n",
              "      <td>Jules</td>\n",
              "      <td>Finance</td>\n",
              "      <td>141</td>\n",
              "      <td>Writing</td>\n",
              "      <td>84</td>\n",
              "    </tr>\n",
              "    <tr>\n",
              "      <th>8</th>\n",
              "      <td>147</td>\n",
              "      <td>James</td>\n",
              "      <td>IT</td>\n",
              "      <td>147</td>\n",
              "      <td>Programming</td>\n",
              "      <td>96</td>\n",
              "    </tr>\n",
              "    <tr>\n",
              "      <th>9</th>\n",
              "      <td>151</td>\n",
              "      <td>Carmen</td>\n",
              "      <td>Finance</td>\n",
              "      <td>151</td>\n",
              "      <td>Programming</td>\n",
              "      <td>67</td>\n",
              "    </tr>\n",
              "    <tr>\n",
              "      <th>10</th>\n",
              "      <td>152</td>\n",
              "      <td>Guadalupe</td>\n",
              "      <td>IT</td>\n",
              "      <td>152</td>\n",
              "      <td>Writing</td>\n",
              "      <td>64</td>\n",
              "    </tr>\n",
              "    <tr>\n",
              "      <th>11</th>\n",
              "      <td>156</td>\n",
              "      <td>Ivan</td>\n",
              "      <td>HR</td>\n",
              "      <td>156</td>\n",
              "      <td>Writing</td>\n",
              "      <td>89</td>\n",
              "    </tr>\n",
              "    <tr>\n",
              "      <th>12</th>\n",
              "      <td>163</td>\n",
              "      <td>Cecilia</td>\n",
              "      <td>IT</td>\n",
              "      <td>163</td>\n",
              "      <td>Programming</td>\n",
              "      <td>85</td>\n",
              "    </tr>\n",
              "    <tr>\n",
              "      <th>13</th>\n",
              "      <td>163</td>\n",
              "      <td>Cecilia</td>\n",
              "      <td>IT</td>\n",
              "      <td>163</td>\n",
              "      <td>Stats</td>\n",
              "      <td>73</td>\n",
              "    </tr>\n",
              "    <tr>\n",
              "      <th>14</th>\n",
              "      <td>163</td>\n",
              "      <td>Cecilia</td>\n",
              "      <td>IT</td>\n",
              "      <td>163</td>\n",
              "      <td>Writing</td>\n",
              "      <td>92</td>\n",
              "    </tr>\n",
              "  </tbody>\n",
              "</table>\n",
              "</div>\n",
              "      <button class=\"colab-df-convert\" onclick=\"convertToInteractive('df-028a34f6-a9ac-4cfb-b6fd-1b725e1f609e')\"\n",
              "              title=\"Convert this dataframe to an interactive table.\"\n",
              "              style=\"display:none;\">\n",
              "        \n",
              "  <svg xmlns=\"http://www.w3.org/2000/svg\" height=\"24px\"viewBox=\"0 0 24 24\"\n",
              "       width=\"24px\">\n",
              "    <path d=\"M0 0h24v24H0V0z\" fill=\"none\"/>\n",
              "    <path d=\"M18.56 5.44l.94 2.06.94-2.06 2.06-.94-2.06-.94-.94-2.06-.94 2.06-2.06.94zm-11 1L8.5 8.5l.94-2.06 2.06-.94-2.06-.94L8.5 2.5l-.94 2.06-2.06.94zm10 10l.94 2.06.94-2.06 2.06-.94-2.06-.94-.94-2.06-.94 2.06-2.06.94z\"/><path d=\"M17.41 7.96l-1.37-1.37c-.4-.4-.92-.59-1.43-.59-.52 0-1.04.2-1.43.59L10.3 9.45l-7.72 7.72c-.78.78-.78 2.05 0 2.83L4 21.41c.39.39.9.59 1.41.59.51 0 1.02-.2 1.41-.59l7.78-7.78 2.81-2.81c.8-.78.8-2.07 0-2.86zM5.41 20L4 18.59l7.72-7.72 1.47 1.35L5.41 20z\"/>\n",
              "  </svg>\n",
              "      </button>\n",
              "      \n",
              "  <style>\n",
              "    .colab-df-container {\n",
              "      display:flex;\n",
              "      flex-wrap:wrap;\n",
              "      gap: 12px;\n",
              "    }\n",
              "\n",
              "    .colab-df-convert {\n",
              "      background-color: #E8F0FE;\n",
              "      border: none;\n",
              "      border-radius: 50%;\n",
              "      cursor: pointer;\n",
              "      display: none;\n",
              "      fill: #1967D2;\n",
              "      height: 32px;\n",
              "      padding: 0 0 0 0;\n",
              "      width: 32px;\n",
              "    }\n",
              "\n",
              "    .colab-df-convert:hover {\n",
              "      background-color: #E2EBFA;\n",
              "      box-shadow: 0px 1px 2px rgba(60, 64, 67, 0.3), 0px 1px 3px 1px rgba(60, 64, 67, 0.15);\n",
              "      fill: #174EA6;\n",
              "    }\n",
              "\n",
              "    [theme=dark] .colab-df-convert {\n",
              "      background-color: #3B4455;\n",
              "      fill: #D2E3FC;\n",
              "    }\n",
              "\n",
              "    [theme=dark] .colab-df-convert:hover {\n",
              "      background-color: #434B5C;\n",
              "      box-shadow: 0px 1px 3px 1px rgba(0, 0, 0, 0.15);\n",
              "      filter: drop-shadow(0px 1px 2px rgba(0, 0, 0, 0.3));\n",
              "      fill: #FFFFFF;\n",
              "    }\n",
              "  </style>\n",
              "\n",
              "      <script>\n",
              "        const buttonEl =\n",
              "          document.querySelector('#df-028a34f6-a9ac-4cfb-b6fd-1b725e1f609e button.colab-df-convert');\n",
              "        buttonEl.style.display =\n",
              "          google.colab.kernel.accessAllowed ? 'block' : 'none';\n",
              "\n",
              "        async function convertToInteractive(key) {\n",
              "          const element = document.querySelector('#df-028a34f6-a9ac-4cfb-b6fd-1b725e1f609e');\n",
              "          const dataTable =\n",
              "            await google.colab.kernel.invokeFunction('convertToInteractive',\n",
              "                                                     [key], {});\n",
              "          if (!dataTable) return;\n",
              "\n",
              "          const docLinkHtml = 'Like what you see? Visit the ' +\n",
              "            '<a target=\"_blank\" href=https://colab.research.google.com/notebooks/data_table.ipynb>data table notebook</a>'\n",
              "            + ' to learn more about interactive tables.';\n",
              "          element.innerHTML = '';\n",
              "          dataTable['output_type'] = 'display_data';\n",
              "          await google.colab.output.renderOutput(dataTable, element);\n",
              "          const docLink = document.createElement('div');\n",
              "          docLink.innerHTML = docLinkHtml;\n",
              "          element.appendChild(docLink);\n",
              "        }\n",
              "      </script>\n",
              "    </div>\n",
              "  </div>\n",
              "  "
            ]
          },
          "metadata": {},
          "execution_count": 7
        }
      ]
    },
    {
      "cell_type": "markdown",
      "source": [
        "Note that the `StudentID` column is now duplicated as both tables contained it. Also, if a student has no grade (like `Elisa`), those rows are omitted in the result of this `join` since the second table has no matches for that `StudentID`. How would we go about observing that? We could make a combination of all grades to all students and leave gradeless rows for those who have not completed any courses. This is possible with an *outer* join, but `SQLite` does not support that. This means that we have to vamp up out toolset for this session. However, our next tool does not allow us to easily read a CSV file from an URL, so let's prepare to make the `INSERT` statements here."
      ],
      "metadata": {
        "id": "6uM6wwgoUfjU"
      }
    },
    {
      "cell_type": "code",
      "source": [
        "for row in students.iterrows():\n",
        "  sID = row[1]['StudentID']\n",
        "  sName = row[1]['Name']\n",
        "  pr = row[1]['Program']\n",
        "  print(f\"INSERT INTO students(StudentID, FirstName, ProgramName) VALUES ({sID}, '{sName}', '{pr}');\")"
      ],
      "metadata": {
        "colab": {
          "base_uri": "https://localhost:8080/"
        },
        "id": "NTX6JtUDaMNF",
        "outputId": "d7bd691a-b708-4ff2-c755-f925f1d6caac"
      },
      "execution_count": 20,
      "outputs": [
        {
          "output_type": "stream",
          "name": "stdout",
          "text": [
            "INSERT INTO students(StudentID, FirstName, ProgramName) VALUES (123, 'Carmen', 'HR');\n",
            "INSERT INTO students(StudentID, FirstName, ProgramName) VALUES (125, 'Emilia', 'Finance');\n",
            "INSERT INTO students(StudentID, FirstName, ProgramName) VALUES (132, 'Sami', 'IT');\n",
            "INSERT INTO students(StudentID, FirstName, ProgramName) VALUES (139, 'Carlo', 'HR');\n",
            "INSERT INTO students(StudentID, FirstName, ProgramName) VALUES (141, 'Jules', 'Finance');\n",
            "INSERT INTO students(StudentID, FirstName, ProgramName) VALUES (147, 'James', 'IT');\n",
            "INSERT INTO students(StudentID, FirstName, ProgramName) VALUES (151, 'Carmen', 'Finance');\n",
            "INSERT INTO students(StudentID, FirstName, ProgramName) VALUES (152, 'Guadalupe', 'IT');\n",
            "INSERT INTO students(StudentID, FirstName, ProgramName) VALUES (156, 'Ivan', 'HR');\n",
            "INSERT INTO students(StudentID, FirstName, ProgramName) VALUES (163, 'Cecilia', 'IT');\n"
          ]
        }
      ]
    },
    {
      "cell_type": "code",
      "source": [
        "for row in grades.iterrows():\n",
        "  sID = row[1]['StudentID']\n",
        "  cName = row[1]['CourseID']\n",
        "  gr = row[1]['Grade']\n",
        "  print(f\"INSERT INTO grades(StudentID, Course, Grade) VALUES ({sID}, '{cName}', {gr});\")"
      ],
      "metadata": {
        "colab": {
          "base_uri": "https://localhost:8080/"
        },
        "id": "3Lz2hwUnbe9d",
        "outputId": "50b33e70-9a00-46f9-ea7d-1fce2c1730d3"
      },
      "execution_count": 22,
      "outputs": [
        {
          "output_type": "stream",
          "name": "stdout",
          "text": [
            "INSERT INTO grades(StudentID, Course, Grade) VALUES (123, 'Stats', 87);\n",
            "INSERT INTO grades(StudentID, Course, Grade) VALUES (139, 'Stats', 93);\n",
            "INSERT INTO grades(StudentID, Course, Grade) VALUES (141, 'Stats', 78);\n",
            "INSERT INTO grades(StudentID, Course, Grade) VALUES (163, 'Stats', 73);\n",
            "INSERT INTO grades(StudentID, Course, Grade) VALUES (123, 'Programming', 82);\n",
            "INSERT INTO grades(StudentID, Course, Grade) VALUES (132, 'Programming', 79);\n",
            "INSERT INTO grades(StudentID, Course, Grade) VALUES (147, 'Programming', 96);\n",
            "INSERT INTO grades(StudentID, Course, Grade) VALUES (151, 'Programming', 67);\n",
            "INSERT INTO grades(StudentID, Course, Grade) VALUES (163, 'Programming', 85);\n",
            "INSERT INTO grades(StudentID, Course, Grade) VALUES (123, 'Writing', 78);\n",
            "INSERT INTO grades(StudentID, Course, Grade) VALUES (125, 'Writing', 93);\n",
            "INSERT INTO grades(StudentID, Course, Grade) VALUES (141, 'Writing', 84);\n",
            "INSERT INTO grades(StudentID, Course, Grade) VALUES (152, 'Writing', 64);\n",
            "INSERT INTO grades(StudentID, Course, Grade) VALUES (156, 'Writing', 89);\n",
            "INSERT INTO grades(StudentID, Course, Grade) VALUES (163, 'Writing', 92);\n"
          ]
        }
      ]
    }
  ]
}