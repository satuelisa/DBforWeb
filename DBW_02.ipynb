{
  "nbformat": 4,
  "nbformat_minor": 0,
  "metadata": {
    "colab": {
      "name": "DBW_02.ipynb",
      "provenance": [],
      "authorship_tag": "ABX9TyNfEM7w6NTAQny4QJZbKhRR",
      "include_colab_link": true
    },
    "kernelspec": {
      "name": "python3",
      "display_name": "Python 3"
    },
    "language_info": {
      "name": "python"
    }
  },
  "cells": [
    {
      "cell_type": "markdown",
      "metadata": {
        "id": "view-in-github",
        "colab_type": "text"
      },
      "source": [
        "<a href=\"https://colab.research.google.com/github/satuelisa/DBforWeb/blob/main/DBW_02.ipynb\" target=\"_parent\"><img src=\"https://colab.research.google.com/assets/colab-badge.svg\" alt=\"Open In Colab\"/></a>"
      ]
    },
    {
      "cell_type": "code",
      "execution_count": null,
      "metadata": {
        "id": "RumJGEwyJtMk",
        "colab": {
          "base_uri": "https://localhost:8080/",
          "height": 1743
        },
        "outputId": "a15dc5c2-0a7f-4238-ad0a-b08a16afdeed"
      },
      "outputs": [
        {
          "output_type": "stream",
          "name": "stdout",
          "text": [
            "Code       object\n",
            "Number     object\n",
            "Title      object\n",
            "Amount    float64\n",
            "Kind       object\n",
            "dtype: object\n"
          ]
        },
        {
          "output_type": "execute_result",
          "data": {
            "text/plain": [
              "    Code Number                                              Title  Amount  \\\n",
              "0   YCBS    255                       Statistical Machine Learning     8.0   \n",
              "1   YCBS    256                Data Science for Business Decisions     8.0   \n",
              "2   YCBS    257                                      Data at Scale     9.0   \n",
              "3   YCBS    258                         Practical Machine Learning     9.0   \n",
              "4   YCBS    260            Statistics for Business Decision Making     8.0   \n",
              "..   ...    ...                                                ...     ...   \n",
              "66  YCBS    242                          Applied Business Analysis     4.5   \n",
              "67  YCBS    243  Introduction to Business Analytics and Data Mo...     4.0   \n",
              "68  YCBS    216             Interpersonal Skills for Professionals     4.5   \n",
              "69  YCBS    221                         Leading Sustainable Change     6.0   \n",
              "70  YCCM    208                   Professional Writing in Business     4.5   \n",
              "\n",
              "    Kind  \n",
              "0   CEUs  \n",
              "1   CEUs  \n",
              "2   CEUs  \n",
              "3   CEUs  \n",
              "4   CEUs  \n",
              "..   ...  \n",
              "66  CEUs  \n",
              "67  CEUs  \n",
              "68  CEUs  \n",
              "69  CEUs  \n",
              "70  CEUs  \n",
              "\n",
              "[71 rows x 5 columns]"
            ],
            "text/html": [
              "\n",
              "  <div id=\"df-49a80599-9765-44f4-8e47-657076eddb6d\">\n",
              "    <div class=\"colab-df-container\">\n",
              "      <div>\n",
              "<style scoped>\n",
              "    .dataframe tbody tr th:only-of-type {\n",
              "        vertical-align: middle;\n",
              "    }\n",
              "\n",
              "    .dataframe tbody tr th {\n",
              "        vertical-align: top;\n",
              "    }\n",
              "\n",
              "    .dataframe thead th {\n",
              "        text-align: right;\n",
              "    }\n",
              "</style>\n",
              "<table border=\"1\" class=\"dataframe\">\n",
              "  <thead>\n",
              "    <tr style=\"text-align: right;\">\n",
              "      <th></th>\n",
              "      <th>Code</th>\n",
              "      <th>Number</th>\n",
              "      <th>Title</th>\n",
              "      <th>Amount</th>\n",
              "      <th>Kind</th>\n",
              "    </tr>\n",
              "  </thead>\n",
              "  <tbody>\n",
              "    <tr>\n",
              "      <th>0</th>\n",
              "      <td>YCBS</td>\n",
              "      <td>255</td>\n",
              "      <td>Statistical Machine Learning</td>\n",
              "      <td>8.0</td>\n",
              "      <td>CEUs</td>\n",
              "    </tr>\n",
              "    <tr>\n",
              "      <th>1</th>\n",
              "      <td>YCBS</td>\n",
              "      <td>256</td>\n",
              "      <td>Data Science for Business Decisions</td>\n",
              "      <td>8.0</td>\n",
              "      <td>CEUs</td>\n",
              "    </tr>\n",
              "    <tr>\n",
              "      <th>2</th>\n",
              "      <td>YCBS</td>\n",
              "      <td>257</td>\n",
              "      <td>Data at Scale</td>\n",
              "      <td>9.0</td>\n",
              "      <td>CEUs</td>\n",
              "    </tr>\n",
              "    <tr>\n",
              "      <th>3</th>\n",
              "      <td>YCBS</td>\n",
              "      <td>258</td>\n",
              "      <td>Practical Machine Learning</td>\n",
              "      <td>9.0</td>\n",
              "      <td>CEUs</td>\n",
              "    </tr>\n",
              "    <tr>\n",
              "      <th>4</th>\n",
              "      <td>YCBS</td>\n",
              "      <td>260</td>\n",
              "      <td>Statistics for Business Decision Making</td>\n",
              "      <td>8.0</td>\n",
              "      <td>CEUs</td>\n",
              "    </tr>\n",
              "    <tr>\n",
              "      <th>...</th>\n",
              "      <td>...</td>\n",
              "      <td>...</td>\n",
              "      <td>...</td>\n",
              "      <td>...</td>\n",
              "      <td>...</td>\n",
              "    </tr>\n",
              "    <tr>\n",
              "      <th>66</th>\n",
              "      <td>YCBS</td>\n",
              "      <td>242</td>\n",
              "      <td>Applied Business Analysis</td>\n",
              "      <td>4.5</td>\n",
              "      <td>CEUs</td>\n",
              "    </tr>\n",
              "    <tr>\n",
              "      <th>67</th>\n",
              "      <td>YCBS</td>\n",
              "      <td>243</td>\n",
              "      <td>Introduction to Business Analytics and Data Mo...</td>\n",
              "      <td>4.0</td>\n",
              "      <td>CEUs</td>\n",
              "    </tr>\n",
              "    <tr>\n",
              "      <th>68</th>\n",
              "      <td>YCBS</td>\n",
              "      <td>216</td>\n",
              "      <td>Interpersonal Skills for Professionals</td>\n",
              "      <td>4.5</td>\n",
              "      <td>CEUs</td>\n",
              "    </tr>\n",
              "    <tr>\n",
              "      <th>69</th>\n",
              "      <td>YCBS</td>\n",
              "      <td>221</td>\n",
              "      <td>Leading Sustainable Change</td>\n",
              "      <td>6.0</td>\n",
              "      <td>CEUs</td>\n",
              "    </tr>\n",
              "    <tr>\n",
              "      <th>70</th>\n",
              "      <td>YCCM</td>\n",
              "      <td>208</td>\n",
              "      <td>Professional Writing in Business</td>\n",
              "      <td>4.5</td>\n",
              "      <td>CEUs</td>\n",
              "    </tr>\n",
              "  </tbody>\n",
              "</table>\n",
              "<p>71 rows × 5 columns</p>\n",
              "</div>\n",
              "      <button class=\"colab-df-convert\" onclick=\"convertToInteractive('df-49a80599-9765-44f4-8e47-657076eddb6d')\"\n",
              "              title=\"Convert this dataframe to an interactive table.\"\n",
              "              style=\"display:none;\">\n",
              "        \n",
              "  <svg xmlns=\"http://www.w3.org/2000/svg\" height=\"24px\"viewBox=\"0 0 24 24\"\n",
              "       width=\"24px\">\n",
              "    <path d=\"M0 0h24v24H0V0z\" fill=\"none\"/>\n",
              "    <path d=\"M18.56 5.44l.94 2.06.94-2.06 2.06-.94-2.06-.94-.94-2.06-.94 2.06-2.06.94zm-11 1L8.5 8.5l.94-2.06 2.06-.94-2.06-.94L8.5 2.5l-.94 2.06-2.06.94zm10 10l.94 2.06.94-2.06 2.06-.94-2.06-.94-.94-2.06-.94 2.06-2.06.94z\"/><path d=\"M17.41 7.96l-1.37-1.37c-.4-.4-.92-.59-1.43-.59-.52 0-1.04.2-1.43.59L10.3 9.45l-7.72 7.72c-.78.78-.78 2.05 0 2.83L4 21.41c.39.39.9.59 1.41.59.51 0 1.02-.2 1.41-.59l7.78-7.78 2.81-2.81c.8-.78.8-2.07 0-2.86zM5.41 20L4 18.59l7.72-7.72 1.47 1.35L5.41 20z\"/>\n",
              "  </svg>\n",
              "      </button>\n",
              "      \n",
              "  <style>\n",
              "    .colab-df-container {\n",
              "      display:flex;\n",
              "      flex-wrap:wrap;\n",
              "      gap: 12px;\n",
              "    }\n",
              "\n",
              "    .colab-df-convert {\n",
              "      background-color: #E8F0FE;\n",
              "      border: none;\n",
              "      border-radius: 50%;\n",
              "      cursor: pointer;\n",
              "      display: none;\n",
              "      fill: #1967D2;\n",
              "      height: 32px;\n",
              "      padding: 0 0 0 0;\n",
              "      width: 32px;\n",
              "    }\n",
              "\n",
              "    .colab-df-convert:hover {\n",
              "      background-color: #E2EBFA;\n",
              "      box-shadow: 0px 1px 2px rgba(60, 64, 67, 0.3), 0px 1px 3px 1px rgba(60, 64, 67, 0.15);\n",
              "      fill: #174EA6;\n",
              "    }\n",
              "\n",
              "    [theme=dark] .colab-df-convert {\n",
              "      background-color: #3B4455;\n",
              "      fill: #D2E3FC;\n",
              "    }\n",
              "\n",
              "    [theme=dark] .colab-df-convert:hover {\n",
              "      background-color: #434B5C;\n",
              "      box-shadow: 0px 1px 3px 1px rgba(0, 0, 0, 0.15);\n",
              "      filter: drop-shadow(0px 1px 2px rgba(0, 0, 0, 0.3));\n",
              "      fill: #FFFFFF;\n",
              "    }\n",
              "  </style>\n",
              "\n",
              "      <script>\n",
              "        const buttonEl =\n",
              "          document.querySelector('#df-49a80599-9765-44f4-8e47-657076eddb6d button.colab-df-convert');\n",
              "        buttonEl.style.display =\n",
              "          google.colab.kernel.accessAllowed ? 'block' : 'none';\n",
              "\n",
              "        async function convertToInteractive(key) {\n",
              "          const element = document.querySelector('#df-49a80599-9765-44f4-8e47-657076eddb6d');\n",
              "          const dataTable =\n",
              "            await google.colab.kernel.invokeFunction('convertToInteractive',\n",
              "                                                     [key], {});\n",
              "          if (!dataTable) return;\n",
              "\n",
              "          const docLinkHtml = 'Like what you see? Visit the ' +\n",
              "            '<a target=\"_blank\" href=https://colab.research.google.com/notebooks/data_table.ipynb>data table notebook</a>'\n",
              "            + ' to learn more about interactive tables.';\n",
              "          element.innerHTML = '';\n",
              "          dataTable['output_type'] = 'display_data';\n",
              "          await google.colab.output.renderOutput(dataTable, element);\n",
              "          const docLink = document.createElement('div');\n",
              "          docLink.innerHTML = docLinkHtml;\n",
              "          element.appendChild(docLink);\n",
              "        }\n",
              "      </script>\n",
              "    </div>\n",
              "  </div>\n",
              "  "
            ]
          },
          "metadata": {},
          "execution_count": 1
        }
      ],
      "source": [
        "import pandas as pd\n",
        "url = 'https://raw.githubusercontent.com/satuelisa/DBforWeb/main/courses.csv' # another example data, a bit larger\n",
        "\n",
        "# if we do not want the course numbers to lose their leading zeroes, we can force everything into strings\n",
        "conv = { 'Number': lambda x: str(x) } # the amounts can be float, that is not a problem\n",
        "csv = pd.read_csv(url, converters = conv)\n",
        "print(csv.dtypes)\n",
        "csv # they still act like numbers when viewed, though"
      ]
    },
    {
      "cell_type": "code",
      "source": [
        "import sqlite3\n",
        "fields = ','.join(csv.columns)\n",
        "connector = sqlite3.connect('example.db')\n",
        "cursor = connector.cursor()\n",
        "cursor.execute(f'CREATE TABLE example ({fields});') \n",
        "rows = csv.to_dict(orient = 'split')['data']\n",
        "wildcard = ('?,' * len(csv.columns))[:-1]\n",
        "cursor.executemany(f'INSERT INTO example ({fields}) VALUES ({wildcard});', rows) \n",
        "connector.commit()\n",
        "connector.close()"
      ],
      "metadata": {
        "id": "jQpveJQab2wY"
      },
      "execution_count": null,
      "outputs": []
    },
    {
      "cell_type": "markdown",
      "source": [
        "That is what we learned to do in Session 1. Today, we will work on making more *queries* on a **single** table. Next session, we will learn to combine information from two or more tables.\n",
        "\n",
        "All of this makes more sense if you take a look at at the [data](https://github.com/satuelisa/DBforWeb/blob/main/courses.csv) before continuing."
      ],
      "metadata": {
        "id": "hB-BKgXMUe4I"
      }
    },
    {
      "cell_type": "code",
      "source": [
        "connector = sqlite3.connect('example.db')\n",
        "cursor = connector.cursor()\n",
        "cursor = connector.execute('SELECT Code || printf(\"%03d\", Number) FROM example WHERE Code = \"YCIT\";') # concatenate if matching, enforce the leading zeroes back\n",
        "contents = cursor.fetchall()\n",
        "print(contents)\n",
        "connector.close()"
      ],
      "metadata": {
        "colab": {
          "base_uri": "https://localhost:8080/"
        },
        "id": "kLDFBHC_UsK9",
        "outputId": "9622dbf3-c6aa-4169-88b1-9f2a784ef59a"
      },
      "execution_count": null,
      "outputs": [
        {
          "output_type": "stream",
          "name": "stdout",
          "text": [
            "[('YCIT017',), ('YCIT018',), ('YCIT019',), ('YCIT020',), ('YCIT021',), ('YCIT022',), ('YCIT001',), ('YCIT002',), ('YCIT003',), ('YCIT004',), ('YCIT005',), ('YCIT006',), ('YCIT007',), ('YCIT008',), ('YCIT009',), ('YCIT010',), ('YCIT011',), ('YCIT012',), ('YCIT013',), ('YCIT014',), ('YCIT015',), ('YCIT016',)]\n"
          ]
        }
      ]
    },
    {
      "cell_type": "markdown",
      "source": [
        "Next up, we have a [`CASE` statement](https://www.sqlitetutorial.net/sqlite-case/)."
      ],
      "metadata": {
        "id": "E9ADXsa3jOIl"
      }
    },
    {
      "cell_type": "code",
      "source": [
        "connector = sqlite3.connect('example.db')\n",
        "cursor = connector.cursor()\n",
        "cursor = connector.execute('''SELECT Title, Amount,\n",
        "    CASE \n",
        "       WHEN Amount <= 3 THEN 'regular'\n",
        "       WHEN Amount > 3 THEN 'heavy'\n",
        "    END \n",
        "  AS scale \n",
        "FROM example;''') # case by case mapping\n",
        "contents = cursor.fetchall()\n",
        "for c in contents:\n",
        "  print(c)\n",
        "connector.close()"
      ],
      "metadata": {
        "colab": {
          "base_uri": "https://localhost:8080/"
        },
        "id": "hpFpWPBXedD5",
        "outputId": "48034411-d6d7-4163-ba19-4e07f3912c79"
      },
      "execution_count": null,
      "outputs": [
        {
          "output_type": "stream",
          "name": "stdout",
          "text": [
            "('Statistical Machine Learning', 8.0, 'heavy')\n",
            "('Data Science for Business Decisions', 8.0, 'heavy')\n",
            "('Data at Scale', 9.0, 'heavy')\n",
            "('Practical Machine Learning', 9.0, 'heavy')\n",
            "('Statistics for Business Decision Making', 8.0, 'heavy')\n",
            "('Data Analytics Fundamentals', 8.0, 'heavy')\n",
            "('Leading Data Science Projects & Teams', 8.0, 'heavy')\n",
            "('Data Science Capstone Project', 9.0, 'heavy')\n",
            "('Cloud Computing Fundamentals', 7.5, 'heavy')\n",
            "('Cloud Networking and Security', 7.5, 'heavy')\n",
            "('Cloud Architecture', 9.0, 'heavy')\n",
            "('Advanced Cloud Architecture', 9.0, 'heavy')\n",
            "('DevOps Practices and Tools', 9.0, 'heavy')\n",
            "('Site Reliability Engineering (SRE)', 9.0, 'heavy')\n",
            "('Predictive & Classification Modelling', 6.0, 'heavy')\n",
            "('Neural Networks & Deep Learning', 6.0, 'heavy')\n",
            "('Intelligent Agents & Reinforcement Learning', 6.0, 'heavy')\n",
            "('Deep Learning for Computer Vision', 6.0, 'heavy')\n",
            "('Natural Language Processing Fundamentals', 6.0, 'heavy')\n",
            "('Time Series Analysis Fundamentals', 6.0, 'heavy')\n",
            "('Internet of Things', 5.0, 'heavy')\n",
            "('Recommender Systems', 6.0, 'heavy')\n",
            "('Programming Techniques 1', 3.0, 'regular')\n",
            "('Programming Techniques 2', 3.0, 'regular')\n",
            "('Web Development', 3.0, 'regular')\n",
            "('Data Structures and Algorithms', 3.0, 'regular')\n",
            "('Operating Systems Administration', 3.0, 'regular')\n",
            "('Mobile Application Development', 3.0, 'regular')\n",
            "('Database Design and Business Applications Development', 3.0, 'regular')\n",
            "('Web Services', 3.0, 'regular')\n",
            "('Networking Fundamentals', 3.0, 'regular')\n",
            "('Access Control and Defence Methods', 3.0, 'regular')\n",
            "('Communication and Network Security', 3.0, 'regular')\n",
            "('Security Program Architecture and Engineering', 3.0, 'regular')\n",
            "('Security Risk Management and Governance', 3.0, 'regular')\n",
            "('Security Incident Response and Recovery', 3.0, 'regular')\n",
            "('Intrusion Testing and Security Assessment', 3.0, 'regular')\n",
            "('Programming for Data Science', 3.0, 'regular')\n",
            "('Information System Security', 3.0, 'regular')\n",
            "('Digital Analytics and Targeting', 3.0, 'regular')\n",
            "('Digital Customer Experience', 3.0, 'regular')\n",
            "('Digital Marketing Automation, Planning and Technology', 3.0, 'regular')\n",
            "('Cloud Computing Architecture', 3.0, 'regular')\n",
            "('Digital Media and Search Engine Optimization', 3.0, 'regular')\n",
            "('Fundamentals of Big Data', 3.0, 'regular')\n",
            "('Mathematics for Management', 3.0, 'regular')\n",
            "('Business Intelligence and Analytics', 3.0, 'regular')\n",
            "('Introduction to Data Analytics', 3.0, 'regular')\n",
            "('Special Topics in Information Technology', 14.0, 'heavy')\n",
            "('HTML & CSS', 4.0, 'heavy')\n",
            "('CSS Fundamentals', 4.0, 'heavy')\n",
            "('JavaScript Fundamentals', 4.0, 'heavy')\n",
            "('JavaScript Libraries', 4.0, 'heavy')\n",
            "('CSS Libraries', 4.0, 'heavy')\n",
            "('TypeScript', 4.0, 'heavy')\n",
            "('JavaScript Frameworks', 4.0, 'heavy')\n",
            "('Database Design Essentials', 4.0, 'heavy')\n",
            "('Database for the Web', 9.0, 'heavy')\n",
            "('Advanced Database Techniques', 4.0, 'heavy')\n",
            "('Object-Oriented Programming Concepts', 4.0, 'heavy')\n",
            "('Node.js Fundamentals', 4.0, 'heavy')\n",
            "('Web Application Development with .NET Core', 4.0, 'heavy')\n",
            "('PHP Fundamentals', 4.0, 'heavy')\n",
            "('Web Security Fundamentals', 3.0, 'regular')\n",
            "('DevOps and Deployment for Web Development', 3.0, 'regular')\n",
            "('Comprehensive Business Analysis', 16.0, 'heavy')\n",
            "('Applied Business Analysis', 4.5, 'heavy')\n",
            "('Introduction to Business Analytics and Data Modelling', 4.0, 'heavy')\n",
            "('Interpersonal Skills for Professionals', 4.5, 'heavy')\n",
            "('Leading Sustainable Change', 6.0, 'heavy')\n",
            "('Professional Writing in Business', 4.5, 'heavy')\n"
          ]
        }
      ]
    },
    {
      "cell_type": "markdown",
      "source": [
        "How about picking just a few matches?"
      ],
      "metadata": {
        "id": "Pnp7dzYLkNXm"
      }
    },
    {
      "cell_type": "code",
      "source": [
        "connector = sqlite3.connect('example.db')\n",
        "cursor = connector.cursor()\n",
        "cursor = connector.execute('SELECT * FROM example LIMIT 7;') #  first seven\n",
        "contents = cursor.fetchall()\n",
        "for c in contents:\n",
        "  print(c)\n",
        "connector.close()"
      ],
      "metadata": {
        "colab": {
          "base_uri": "https://localhost:8080/"
        },
        "id": "ovuRqFKTkUCD",
        "outputId": "d81074dd-e436-434e-ed66-0a666441c1d4"
      },
      "execution_count": null,
      "outputs": [
        {
          "output_type": "stream",
          "name": "stdout",
          "text": [
            "('YCBS', '255', 'Statistical Machine Learning', 8.0, 'CEUs')\n",
            "('YCBS', '256', 'Data Science for Business Decisions', 8.0, 'CEUs')\n",
            "('YCBS', '257', 'Data at Scale', 9.0, 'CEUs')\n",
            "('YCBS', '258', 'Practical Machine Learning', 9.0, 'CEUs')\n",
            "('YCBS', '260', 'Statistics for Business Decision Making', 8.0, 'CEUs')\n",
            "('YCBS', '261', 'Data Analytics Fundamentals', 8.0, 'CEUs')\n",
            "('YCBS', '262', 'Leading Data Science Projects & Teams', 8.0, 'CEUs')\n"
          ]
        }
      ]
    },
    {
      "cell_type": "code",
      "source": [
        "connector = sqlite3.connect('example.db')\n",
        "cursor = connector.cursor()\n",
        "cursor = connector.execute('SELECT * FROM example ORDER BY random() LIMIT 7;') # random sample\n",
        "contents = cursor.fetchall()\n",
        "for c in contents:\n",
        "  print(c)\n",
        "connector.close()"
      ],
      "metadata": {
        "colab": {
          "base_uri": "https://localhost:8080/"
        },
        "id": "td2hCFKYksvd",
        "outputId": "f1b34e47-05c5-4e52-c87d-731f1090ef8c"
      },
      "execution_count": null,
      "outputs": [
        {
          "output_type": "stream",
          "name": "stdout",
          "text": [
            "('YCNG', '233', 'Time Series Analysis Fundamentals', 6.0, 'CEUs')\n",
            "('CCCS', '425', 'Web Services', 3.0, 'credits')\n",
            "('YCBS', '216', 'Interpersonal Skills for Professionals', 4.5, 'CEUs')\n",
            "('YCIT', '4', 'JavaScript Libraries', 4.0, 'CEUs')\n",
            "('CCCS', '451', 'Communication and Network Security', 3.0, 'credits')\n",
            "('YCNG', '230', 'Intelligent Agents & Reinforcement Learning', 6.0, 'CEUs')\n",
            "('YCIT', '7', 'JavaScript Frameworks', 4.0, 'CEUs')\n"
          ]
        }
      ]
    },
    {
      "cell_type": "code",
      "source": [
        "connector = sqlite3.connect('example.db')\n",
        "cursor = connector.cursor()\n",
        "cursor = connector.execute('SELECT * FROM example ORDER BY Amount LIMIT 7;') # increasing order\n",
        "contents = cursor.fetchall()\n",
        "for c in contents:\n",
        "  print(c)\n",
        "connector.close()"
      ],
      "metadata": {
        "colab": {
          "base_uri": "https://localhost:8080/"
        },
        "id": "3hqUSJvJk_QY",
        "outputId": "309bc92c-b2a4-4871-bf43-0f040ff9b488"
      },
      "execution_count": null,
      "outputs": [
        {
          "output_type": "stream",
          "name": "stdout",
          "text": [
            "('CCCS', '300', 'Programming Techniques 1', 3.0, 'credits')\n",
            "('CCCS', '301', 'Programming Techniques 2', 3.0, 'credits')\n",
            "('CCCS', '310', 'Web Development', 3.0, 'credits')\n",
            "('CCCS', '315', 'Data Structures and Algorithms', 3.0, 'credits')\n",
            "('CCCS', '321', 'Operating Systems Administration', 3.0, 'credits')\n",
            "('CCCS', '325', 'Mobile Application Development', 3.0, 'credits')\n",
            "('CCCS', '330', 'Database Design and Business Applications Development', 3.0, 'credits')\n"
          ]
        }
      ]
    },
    {
      "cell_type": "code",
      "source": [
        "connector = sqlite3.connect('example.db')\n",
        "cursor = connector.cursor()\n",
        "cursor = connector.execute('SELECT * FROM example ORDER BY Amount DESC LIMIT 7;') # decreasing order\n",
        "contents = cursor.fetchall()\n",
        "for c in contents:\n",
        "  print(c)\n",
        "connector.close()"
      ],
      "metadata": {
        "colab": {
          "base_uri": "https://localhost:8080/"
        },
        "id": "6-gnrnx7lWQB",
        "outputId": "e21b7896-07e8-4ba3-bc91-db47bf69a660"
      },
      "execution_count": null,
      "outputs": [
        {
          "output_type": "stream",
          "name": "stdout",
          "text": [
            "('YCBS', '210', 'Comprehensive Business Analysis', 16.0, 'CEUs')\n",
            "('CBUS', '4', 'Special Topics in Information Technology', 14.0, 'credits')\n",
            "('YCBS', '257', 'Data at Scale', 9.0, 'CEUs')\n",
            "('YCBS', '258', 'Practical Machine Learning', 9.0, 'CEUs')\n",
            "('YCBS', '299', 'Data Science Capstone Project', 9.0, 'CEUs')\n",
            "('YCIT', '19', 'Cloud Architecture', 9.0, 'CEUs')\n",
            "('YCIT', '20', 'Advanced Cloud Architecture', 9.0, 'CEUs')\n"
          ]
        }
      ]
    }
  ]
}