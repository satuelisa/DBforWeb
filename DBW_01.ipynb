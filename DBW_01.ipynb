{
  "nbformat": 4,
  "nbformat_minor": 0,
  "metadata": {
    "colab": {
      "name": "DBW_01.ipynb",
      "provenance": [],
      "authorship_tag": "ABX9TyOz2CZ56mUvZBYKxMk1VGqK",
      "include_colab_link": true
    },
    "kernelspec": {
      "name": "python3",
      "display_name": "Python 3"
    },
    "language_info": {
      "name": "python"
    }
  },
  "cells": [
    {
      "cell_type": "markdown",
      "metadata": {
        "id": "view-in-github",
        "colab_type": "text"
      },
      "source": [
        "<a href=\"https://colab.research.google.com/github/satuelisa/DBforWeb/blob/main/DBW_01.ipynb\" target=\"_parent\"><img src=\"https://colab.research.google.com/assets/colab-badge.svg\" alt=\"Open In Colab\"/></a>"
      ]
    },
    {
      "cell_type": "code",
      "execution_count": 1,
      "metadata": {
        "colab": {
          "base_uri": "https://localhost:8080/",
          "height": 175
        },
        "id": "649ID9vNG2BB",
        "outputId": "d9d66009-39bb-417b-96fc-b987e58d22cd"
      },
      "outputs": [
        {
          "output_type": "execute_result",
          "data": {
            "text/plain": [
              "     Name  Salary       City\n",
              "0  Gloria  120000   Montreal\n",
              "1     Ali   86500    Toronto\n",
              "2  Carlos   96000  Vancouver\n",
              "3   Marie   78600     Ottawa"
            ],
            "text/html": [
              "\n",
              "  <div id=\"df-7b7dda96-91a2-400f-8427-7417c5307431\">\n",
              "    <div class=\"colab-df-container\">\n",
              "      <div>\n",
              "<style scoped>\n",
              "    .dataframe tbody tr th:only-of-type {\n",
              "        vertical-align: middle;\n",
              "    }\n",
              "\n",
              "    .dataframe tbody tr th {\n",
              "        vertical-align: top;\n",
              "    }\n",
              "\n",
              "    .dataframe thead th {\n",
              "        text-align: right;\n",
              "    }\n",
              "</style>\n",
              "<table border=\"1\" class=\"dataframe\">\n",
              "  <thead>\n",
              "    <tr style=\"text-align: right;\">\n",
              "      <th></th>\n",
              "      <th>Name</th>\n",
              "      <th>Salary</th>\n",
              "      <th>City</th>\n",
              "    </tr>\n",
              "  </thead>\n",
              "  <tbody>\n",
              "    <tr>\n",
              "      <th>0</th>\n",
              "      <td>Gloria</td>\n",
              "      <td>120000</td>\n",
              "      <td>Montreal</td>\n",
              "    </tr>\n",
              "    <tr>\n",
              "      <th>1</th>\n",
              "      <td>Ali</td>\n",
              "      <td>86500</td>\n",
              "      <td>Toronto</td>\n",
              "    </tr>\n",
              "    <tr>\n",
              "      <th>2</th>\n",
              "      <td>Carlos</td>\n",
              "      <td>96000</td>\n",
              "      <td>Vancouver</td>\n",
              "    </tr>\n",
              "    <tr>\n",
              "      <th>3</th>\n",
              "      <td>Marie</td>\n",
              "      <td>78600</td>\n",
              "      <td>Ottawa</td>\n",
              "    </tr>\n",
              "  </tbody>\n",
              "</table>\n",
              "</div>\n",
              "      <button class=\"colab-df-convert\" onclick=\"convertToInteractive('df-7b7dda96-91a2-400f-8427-7417c5307431')\"\n",
              "              title=\"Convert this dataframe to an interactive table.\"\n",
              "              style=\"display:none;\">\n",
              "        \n",
              "  <svg xmlns=\"http://www.w3.org/2000/svg\" height=\"24px\"viewBox=\"0 0 24 24\"\n",
              "       width=\"24px\">\n",
              "    <path d=\"M0 0h24v24H0V0z\" fill=\"none\"/>\n",
              "    <path d=\"M18.56 5.44l.94 2.06.94-2.06 2.06-.94-2.06-.94-.94-2.06-.94 2.06-2.06.94zm-11 1L8.5 8.5l.94-2.06 2.06-.94-2.06-.94L8.5 2.5l-.94 2.06-2.06.94zm10 10l.94 2.06.94-2.06 2.06-.94-2.06-.94-.94-2.06-.94 2.06-2.06.94z\"/><path d=\"M17.41 7.96l-1.37-1.37c-.4-.4-.92-.59-1.43-.59-.52 0-1.04.2-1.43.59L10.3 9.45l-7.72 7.72c-.78.78-.78 2.05 0 2.83L4 21.41c.39.39.9.59 1.41.59.51 0 1.02-.2 1.41-.59l7.78-7.78 2.81-2.81c.8-.78.8-2.07 0-2.86zM5.41 20L4 18.59l7.72-7.72 1.47 1.35L5.41 20z\"/>\n",
              "  </svg>\n",
              "      </button>\n",
              "      \n",
              "  <style>\n",
              "    .colab-df-container {\n",
              "      display:flex;\n",
              "      flex-wrap:wrap;\n",
              "      gap: 12px;\n",
              "    }\n",
              "\n",
              "    .colab-df-convert {\n",
              "      background-color: #E8F0FE;\n",
              "      border: none;\n",
              "      border-radius: 50%;\n",
              "      cursor: pointer;\n",
              "      display: none;\n",
              "      fill: #1967D2;\n",
              "      height: 32px;\n",
              "      padding: 0 0 0 0;\n",
              "      width: 32px;\n",
              "    }\n",
              "\n",
              "    .colab-df-convert:hover {\n",
              "      background-color: #E2EBFA;\n",
              "      box-shadow: 0px 1px 2px rgba(60, 64, 67, 0.3), 0px 1px 3px 1px rgba(60, 64, 67, 0.15);\n",
              "      fill: #174EA6;\n",
              "    }\n",
              "\n",
              "    [theme=dark] .colab-df-convert {\n",
              "      background-color: #3B4455;\n",
              "      fill: #D2E3FC;\n",
              "    }\n",
              "\n",
              "    [theme=dark] .colab-df-convert:hover {\n",
              "      background-color: #434B5C;\n",
              "      box-shadow: 0px 1px 3px 1px rgba(0, 0, 0, 0.15);\n",
              "      filter: drop-shadow(0px 1px 2px rgba(0, 0, 0, 0.3));\n",
              "      fill: #FFFFFF;\n",
              "    }\n",
              "  </style>\n",
              "\n",
              "      <script>\n",
              "        const buttonEl =\n",
              "          document.querySelector('#df-7b7dda96-91a2-400f-8427-7417c5307431 button.colab-df-convert');\n",
              "        buttonEl.style.display =\n",
              "          google.colab.kernel.accessAllowed ? 'block' : 'none';\n",
              "\n",
              "        async function convertToInteractive(key) {\n",
              "          const element = document.querySelector('#df-7b7dda96-91a2-400f-8427-7417c5307431');\n",
              "          const dataTable =\n",
              "            await google.colab.kernel.invokeFunction('convertToInteractive',\n",
              "                                                     [key], {});\n",
              "          if (!dataTable) return;\n",
              "\n",
              "          const docLinkHtml = 'Like what you see? Visit the ' +\n",
              "            '<a target=\"_blank\" href=https://colab.research.google.com/notebooks/data_table.ipynb>data table notebook</a>'\n",
              "            + ' to learn more about interactive tables.';\n",
              "          element.innerHTML = '';\n",
              "          dataTable['output_type'] = 'display_data';\n",
              "          await google.colab.output.renderOutput(dataTable, element);\n",
              "          const docLink = document.createElement('div');\n",
              "          docLink.innerHTML = docLinkHtml;\n",
              "          element.appendChild(docLink);\n",
              "        }\n",
              "      </script>\n",
              "    </div>\n",
              "  </div>\n",
              "  "
            ]
          },
          "metadata": {},
          "execution_count": 1
        }
      ],
      "source": [
        "import sqlite3\n",
        "import pandas as pd\n",
        "url = 'https://raw.githubusercontent.com/satuelisa/DBforWeb/main/example.csv'\n",
        "csv = pd.read_csv(url)\n",
        "csv"
      ]
    },
    {
      "cell_type": "markdown",
      "source": [
        "So, we have a file in which each row is a *record* and each column is a *field* Let's put that into a *database* with that same structure. In order to respect the structure, we need to know what columns to create in our database."
      ],
      "metadata": {
        "id": "kKB0s06KH2IU"
      }
    },
    {
      "cell_type": "code",
      "source": [
        "fields = ','.join(csv.columns)\n",
        "fields"
      ],
      "metadata": {
        "colab": {
          "base_uri": "https://localhost:8080/",
          "height": 35
        },
        "id": "KVtg32MJH-So",
        "outputId": "ad8d02cc-56d5-4188-bfd2-0efa54f486de"
      },
      "execution_count": 2,
      "outputs": [
        {
          "output_type": "execute_result",
          "data": {
            "text/plain": [
              "'Name,Salary,City'"
            ],
            "application/vnd.google.colaboratory.intrinsic+json": {
              "type": "string"
            }
          },
          "metadata": {},
          "execution_count": 2
        }
      ]
    },
    {
      "cell_type": "code",
      "source": [
        "connector = sqlite3.connect('example.db')\n",
        "cursor = connector.cursor()\n",
        "cursor.execute(f'CREATE TABLE example ({fields});') # the text we send for execution is an SQL command for the SQLITE3 database system"
      ],
      "metadata": {
        "colab": {
          "base_uri": "https://localhost:8080/"
        },
        "id": "lSkl6recH-UQ",
        "outputId": "f3617fbb-55df-459e-bd82-1c9bf4dd7673"
      },
      "execution_count": 3,
      "outputs": [
        {
          "output_type": "execute_result",
          "data": {
            "text/plain": [
              "<sqlite3.Cursor at 0x7f755139bdc0>"
            ]
          },
          "metadata": {},
          "execution_count": 3
        }
      ]
    },
    {
      "cell_type": "markdown",
      "source": [
        "We now populate the table from the rows in the file. We could of course just create a blank one and then add records to it, but this way we can test stuff out faster. We fill break the dataframe holding the file into a list of records that each is a list of the values of the fields."
      ],
      "metadata": {
        "id": "NjC5zZiKJSfx"
      }
    },
    {
      "cell_type": "code",
      "source": [
        "rows = csv.to_dict(orient = 'split')['data']\n",
        "rows"
      ],
      "metadata": {
        "colab": {
          "base_uri": "https://localhost:8080/"
        },
        "id": "dKOYnU_oJdyh",
        "outputId": "821562bc-b45e-46c8-a6f6-5cba241e0548"
      },
      "execution_count": 4,
      "outputs": [
        {
          "output_type": "execute_result",
          "data": {
            "text/plain": [
              "[['Gloria', 120000, 'Montreal'],\n",
              " ['Ali', 86500, 'Toronto'],\n",
              " ['Carlos', 96000, 'Vancouver'],\n",
              " ['Marie', 78600, 'Ottawa']]"
            ]
          },
          "metadata": {},
          "execution_count": 4
        }
      ]
    },
    {
      "cell_type": "markdown",
      "source": [
        "Now we are ready to insert them into the table. We need to be able to say how many unknown values we will be providing by specifying a *wildcard string* that matches the field count."
      ],
      "metadata": {
        "id": "ppSnX_xRJwuh"
      }
    },
    {
      "cell_type": "code",
      "source": [
        "wildcard = ('?,' * len(csv.columns))[:-1]\n",
        "wildcard"
      ],
      "metadata": {
        "colab": {
          "base_uri": "https://localhost:8080/",
          "height": 35
        },
        "id": "z9FwFsOIJy-Q",
        "outputId": "66e957d6-b7a6-4c7d-f0e6-60b793acbaa1"
      },
      "execution_count": 5,
      "outputs": [
        {
          "output_type": "execute_result",
          "data": {
            "text/plain": [
              "'?,?,?'"
            ],
            "application/vnd.google.colaboratory.intrinsic+json": {
              "type": "string"
            }
          },
          "metadata": {},
          "execution_count": 5
        }
      ]
    },
    {
      "cell_type": "code",
      "source": [
        "cursor.executemany(f'INSERT INTO example ({fields}) VALUES ({wildcard});', rows) # we again send a text to the database server saying what we want done"
      ],
      "metadata": {
        "colab": {
          "base_uri": "https://localhost:8080/"
        },
        "id": "tuIlT5w6KWWB",
        "outputId": "121994b1-7a58-4bba-ed91-72815dcabbc9"
      },
      "execution_count": 6,
      "outputs": [
        {
          "output_type": "execute_result",
          "data": {
            "text/plain": [
              "<sqlite3.Cursor at 0x7f755139bdc0>"
            ]
          },
          "metadata": {},
          "execution_count": 6
        }
      ]
    },
    {
      "cell_type": "markdown",
      "source": [
        "We can also add more rows in the same way if we like."
      ],
      "metadata": {
        "id": "NAaszIhCLSX_"
      }
    },
    {
      "cell_type": "code",
      "source": [
        "more = [['Lin', 50000, 'Quebec'], ['Manu', 76000, 'Calgary']]\n",
        "cursor.executemany(f'INSERT INTO example ({fields}) VALUES ({wildcard});', more)"
      ],
      "metadata": {
        "colab": {
          "base_uri": "https://localhost:8080/"
        },
        "id": "bcGqsrZqLWB4",
        "outputId": "7ae52271-bd2e-4c2b-964a-03dba159720b"
      },
      "execution_count": 7,
      "outputs": [
        {
          "output_type": "execute_result",
          "data": {
            "text/plain": [
              "<sqlite3.Cursor at 0x7f755139bdc0>"
            ]
          },
          "metadata": {},
          "execution_count": 7
        }
      ]
    },
    {
      "cell_type": "markdown",
      "source": [
        "Then we need to *commit* the changes we made into the database and then we can disconnect without losing data."
      ],
      "metadata": {
        "id": "da9sB2FLKywR"
      }
    },
    {
      "cell_type": "code",
      "source": [
        "connector.commit()\n",
        "connector.close()"
      ],
      "metadata": {
        "id": "YMp_69USK6Le"
      },
      "execution_count": 8,
      "outputs": []
    },
    {
      "cell_type": "markdown",
      "source": [
        "So, how do we access that database now? We can connect to it again and consult the contents by making *queries*."
      ],
      "metadata": {
        "id": "rSYq1Q8BMMRm"
      }
    },
    {
      "cell_type": "code",
      "source": [
        "connector = sqlite3.connect('example.db')\n",
        "cursor = connector.execute('SELECT * FROM example;') \n",
        "contents = cursor.fetchall()\n",
        "print(contents)\n",
        "connector.close()"
      ],
      "metadata": {
        "colab": {
          "base_uri": "https://localhost:8080/"
        },
        "id": "pWH0cNPSMSll",
        "outputId": "137b95a7-40c2-41d2-f54f-973b4a172347"
      },
      "execution_count": 9,
      "outputs": [
        {
          "output_type": "stream",
          "name": "stdout",
          "text": [
            "[('Gloria', 120000, 'Montreal'), ('Ali', 86500, 'Toronto'), ('Carlos', 96000, 'Vancouver'), ('Marie', 78600, 'Ottawa'), ('Lin', 50000, 'Quebec'), ('Manu', 76000, 'Calgary')]\n"
          ]
        }
      ]
    },
    {
      "cell_type": "markdown",
      "source": [
        "We are now ready to delve into how to define how to group our data into tables, what columns to include in what tables, and then, as a second step, move into how to query more complex aspects about the records that have been stored."
      ],
      "metadata": {
        "id": "6nykX6RrNWAf"
      }
    }
  ]
}